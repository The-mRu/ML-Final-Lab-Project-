{
  "cells": [
    {
      "cell_type": "markdown",
      "source": [
        "Import Library\n"
      ],
      "metadata": {
        "id": "wzM_07N-TIYQ"
      }
    },
    {
      "cell_type": "code",
      "execution_count": 31,
      "metadata": {
        "id": "ApwqOpxSnRGC"
      },
      "outputs": [],
      "source": [
        "import numpy as np\n",
        "import pandas as pd\n",
        "import matplotlib.pyplot as plt\n",
        "import seaborn as sns\n",
        "from sklearn.model_selection import train_test_split, GridSearchCV\n",
        "from sklearn.preprocessing import StandardScaler, LabelEncoder\n",
        "from sklearn.naive_bayes import GaussianNB\n",
        "from sklearn.neighbors import KNeighborsClassifier\n",
        "from sklearn.svm import SVC\n",
        "from sklearn.linear_model import LogisticRegression\n",
        "from sklearn.tree import DecisionTreeClassifier\n",
        "from sklearn.ensemble import RandomForestClassifier, GradientBoostingClassifier, AdaBoostClassifier\n",
        "from xgboost import XGBClassifier\n",
        "from sklearn.metrics import accuracy_score, classification_report\n",
        "\n",
        "\n",
        "from sklearn.preprocessing  import StandardScaler\n",
        "from imblearn.over_sampling import RandomOverSampler"
      ]
    },
    {
      "cell_type": "markdown",
      "source": [
        "Import Dataset"
      ],
      "metadata": {
        "id": "AUp5zT9JTM_A"
      }
    },
    {
      "cell_type": "code",
      "execution_count": 32,
      "metadata": {
        "id": "tIFl7vaAnTgX"
      },
      "outputs": [],
      "source": [
        "# Load dataset\n",
        "data_url = \"https://archive.ics.uci.edu/ml/machine-learning-databases/00225/Indian%20Liver%20Patient%20Dataset%20(ILPD).csv\"\n",
        "df = pd.read_csv(data_url, header=None)\n"
      ]
    },
    {
      "cell_type": "markdown",
      "source": [
        "Name The coloumns"
      ],
      "metadata": {
        "id": "xBVV80ZqTedg"
      }
    },
    {
      "cell_type": "code",
      "source": [
        "df.columns = [\"Age\", \"Gender\", \"TB\", \"DB\", \"Alkphos\", \"Sgpt\", \"Sgot\", \"TP\", \"ALB\", \"A/G Ratio\", \"Liver Disease\"]"
      ],
      "metadata": {
        "id": "Mti1_FmLTanv"
      },
      "execution_count": 33,
      "outputs": []
    },
    {
      "cell_type": "markdown",
      "source": [
        "Encode categorical variable"
      ],
      "metadata": {
        "id": "pRtJNS_OTsw_"
      }
    },
    {
      "cell_type": "code",
      "source": [
        "df[\"Gender\"] = LabelEncoder().fit_transform(df[\"Gender\"])\n",
        "print(df)"
      ],
      "metadata": {
        "colab": {
          "base_uri": "https://localhost:8080/"
        },
        "id": "yq_b3eFtTqpX",
        "outputId": "3b681a35-5380-46e0-bc00-57104b3c4b41"
      },
      "execution_count": 34,
      "outputs": [
        {
          "output_type": "stream",
          "name": "stdout",
          "text": [
            "     Age  Gender    TB   DB  Alkphos  Sgpt  Sgot   TP  ALB  A/G Ratio  \\\n",
            "0     65       0   0.7  0.1      187    16    18  6.8  3.3       0.90   \n",
            "1     62       1  10.9  5.5      699    64   100  7.5  3.2       0.74   \n",
            "2     62       1   7.3  4.1      490    60    68  7.0  3.3       0.89   \n",
            "3     58       1   1.0  0.4      182    14    20  6.8  3.4       1.00   \n",
            "4     72       1   3.9  2.0      195    27    59  7.3  2.4       0.40   \n",
            "..   ...     ...   ...  ...      ...   ...   ...  ...  ...        ...   \n",
            "578   60       1   0.5  0.1      500    20    34  5.9  1.6       0.37   \n",
            "579   40       1   0.6  0.1       98    35    31  6.0  3.2       1.10   \n",
            "580   52       1   0.8  0.2      245    48    49  6.4  3.2       1.00   \n",
            "581   31       1   1.3  0.5      184    29    32  6.8  3.4       1.00   \n",
            "582   38       1   1.0  0.3      216    21    24  7.3  4.4       1.50   \n",
            "\n",
            "     Liver Disease  \n",
            "0                1  \n",
            "1                1  \n",
            "2                1  \n",
            "3                1  \n",
            "4                1  \n",
            "..             ...  \n",
            "578              2  \n",
            "579              1  \n",
            "580              1  \n",
            "581              1  \n",
            "582              2  \n",
            "\n",
            "[583 rows x 11 columns]\n"
          ]
        }
      ]
    },
    {
      "cell_type": "code",
      "source": [
        "\n",
        "# for label in df.columns[:-1]:\n",
        "#   plt.hist(df[df[\"Gender\"] == 1][label], color ='blue' , label = 'Male', alpha= 0.7 ,density = True )\n",
        "#   plt.hist(df[df[\"Gender\"] == 0][label], color ='red' , label = 'Female', alpha= 0.7 ,density = True )\n",
        "#   plt.title(label)\n",
        "#   plt.ylabel(\"Probability\")\n",
        "#   plt.xlabel(label)\n",
        "#   plt.legend()\n",
        "#   plt.show()\n"
      ],
      "metadata": {
        "id": "gBhDei93UqEf"
      },
      "execution_count": 35,
      "outputs": []
    },
    {
      "cell_type": "markdown",
      "source": [
        " Fill missing values"
      ],
      "metadata": {
        "id": "gfvOCkzUTwER"
      }
    },
    {
      "cell_type": "code",
      "source": [
        "\n",
        "for col in df.columns:\n",
        "    if col == \"Gender\":\n",
        "        # most frequent (mode)\n",
        "        df[col].fillna(df[col].mode()[0], inplace=True)\n",
        "    elif col == \"Liver Disease\":\n",
        "        # median\n",
        "        df[col].fillna(df[col].median(), inplace=True)\n",
        "    else:\n",
        "        # mean for all other numeric features\n",
        "        df[col].fillna(df[col].mean(), inplace=True)\n"
      ],
      "metadata": {
        "colab": {
          "base_uri": "https://localhost:8080/"
        },
        "id": "cqHJACjzSwFx",
        "outputId": "a8129a1c-98ca-4ebb-e584-d098675d0deb"
      },
      "execution_count": 36,
      "outputs": [
        {
          "output_type": "stream",
          "name": "stderr",
          "text": [
            "/tmp/ipython-input-3843203570.py:10: FutureWarning: A value is trying to be set on a copy of a DataFrame or Series through chained assignment using an inplace method.\n",
            "The behavior will change in pandas 3.0. This inplace method will never work because the intermediate object on which we are setting values always behaves as a copy.\n",
            "\n",
            "For example, when doing 'df[col].method(value, inplace=True)', try using 'df.method({col: value}, inplace=True)' or df[col] = df[col].method(value) instead, to perform the operation inplace on the original object.\n",
            "\n",
            "\n",
            "  df[col].fillna(df[col].mean(), inplace=True)\n",
            "/tmp/ipython-input-3843203570.py:4: FutureWarning: A value is trying to be set on a copy of a DataFrame or Series through chained assignment using an inplace method.\n",
            "The behavior will change in pandas 3.0. This inplace method will never work because the intermediate object on which we are setting values always behaves as a copy.\n",
            "\n",
            "For example, when doing 'df[col].method(value, inplace=True)', try using 'df.method({col: value}, inplace=True)' or df[col] = df[col].method(value) instead, to perform the operation inplace on the original object.\n",
            "\n",
            "\n",
            "  df[col].fillna(df[col].mode()[0], inplace=True)\n",
            "/tmp/ipython-input-3843203570.py:10: FutureWarning: A value is trying to be set on a copy of a DataFrame or Series through chained assignment using an inplace method.\n",
            "The behavior will change in pandas 3.0. This inplace method will never work because the intermediate object on which we are setting values always behaves as a copy.\n",
            "\n",
            "For example, when doing 'df[col].method(value, inplace=True)', try using 'df.method({col: value}, inplace=True)' or df[col] = df[col].method(value) instead, to perform the operation inplace on the original object.\n",
            "\n",
            "\n",
            "  df[col].fillna(df[col].mean(), inplace=True)\n",
            "/tmp/ipython-input-3843203570.py:7: FutureWarning: A value is trying to be set on a copy of a DataFrame or Series through chained assignment using an inplace method.\n",
            "The behavior will change in pandas 3.0. This inplace method will never work because the intermediate object on which we are setting values always behaves as a copy.\n",
            "\n",
            "For example, when doing 'df[col].method(value, inplace=True)', try using 'df.method({col: value}, inplace=True)' or df[col] = df[col].method(value) instead, to perform the operation inplace on the original object.\n",
            "\n",
            "\n",
            "  df[col].fillna(df[col].median(), inplace=True)\n"
          ]
        }
      ]
    },
    {
      "cell_type": "markdown",
      "source": [
        "Separate Target Column"
      ],
      "metadata": {
        "id": "0nfBecfBVlD2"
      }
    },
    {
      "cell_type": "code",
      "source": [
        "X = df.drop(columns=[\"Liver Disease\",\"TP\"])\n",
        "# \"TP\" has negative impact\n",
        "y = df[\"Liver Disease\"]\n",
        "feature_names = X.columns.tolist()"
      ],
      "metadata": {
        "id": "6m0rSX74VjhG"
      },
      "execution_count": 37,
      "outputs": []
    },
    {
      "cell_type": "code",
      "source": [
        "feature_names"
      ],
      "metadata": {
        "colab": {
          "base_uri": "https://localhost:8080/"
        },
        "id": "BCPEtx8hd6sg",
        "outputId": "de76908d-fca0-4245-e2a2-6cf19fc1ff9b"
      },
      "execution_count": 38,
      "outputs": [
        {
          "output_type": "execute_result",
          "data": {
            "text/plain": [
              "['Age', 'Gender', 'TB', 'DB', 'Alkphos', 'Sgpt', 'Sgot', 'ALB', 'A/G Ratio']"
            ]
          },
          "metadata": {},
          "execution_count": 38
        }
      ]
    },
    {
      "cell_type": "markdown",
      "source": [
        "Balance Dataset by Smote"
      ],
      "metadata": {
        "id": "FtPhHeltVyVe"
      }
    },
    {
      "cell_type": "code",
      "execution_count": 39,
      "metadata": {
        "id": "XpiOxUUhnXwY",
        "colab": {
          "base_uri": "https://localhost:8080/"
        },
        "outputId": "79eab64b-e80f-40af-f5c3-8ca34f6d5c86"
      },
      "outputs": [
        {
          "output_type": "stream",
          "name": "stdout",
          "text": [
            "Before SMOTE:\n",
            "Liver Disease\n",
            "1    416\n",
            "2    167\n",
            "Name: count, dtype: int64\n",
            "\n",
            "After SMOTE:\n",
            "Liver Disease\n",
            "1    416\n",
            "2    416\n",
            "Name: count, dtype: int64\n"
          ]
        }
      ],
      "source": [
        "# Before SMOTE\n",
        "print(\"Before SMOTE:\")\n",
        "print(df[\"Liver Disease\"].value_counts())\n",
        "# Balance dataset using SMOTE\n",
        "from imblearn.over_sampling import SMOTE\n",
        "\n",
        "smote = SMOTE(random_state=42)\n",
        "X, y = smote.fit_resample(X, y)\n",
        "print(\"\\nAfter SMOTE:\")\n",
        "print(pd.Series(y).value_counts())"
      ]
    },
    {
      "cell_type": "markdown",
      "source": [
        "Convert the class of target column from {1,2} to -> {0,1}"
      ],
      "metadata": {
        "id": "vNtnXbB1V122"
      }
    },
    {
      "cell_type": "code",
      "source": [
        "# convert labels from {1,2} → {0,1}\n",
        "y = y - 1"
      ],
      "metadata": {
        "id": "pDJp4S8dVxL-"
      },
      "execution_count": 40,
      "outputs": []
    },
    {
      "cell_type": "code",
      "execution_count": 41,
      "metadata": {
        "id": "ZoZHRAULna0l"
      },
      "outputs": [],
      "source": [
        "# # Split dataset\n",
        "X_train, X_test, y_train, y_test = train_test_split(X, y, test_size=0.2, random_state=42, stratify=y)\n"
      ]
    },
    {
      "cell_type": "markdown",
      "source": [
        "Scaling"
      ],
      "metadata": {
        "id": "I6cJj3KaWRBV"
      }
    },
    {
      "cell_type": "code",
      "execution_count": 42,
      "metadata": {
        "id": "Xj9t17eYnjbG"
      },
      "outputs": [],
      "source": [
        "scaler = StandardScaler()\n",
        "X_train = scaler.fit_transform(X_train)\n",
        "X_test  = scaler.transform(X_test)"
      ]
    },
    {
      "cell_type": "markdown",
      "source": [
        "Define ML model model object\n",
        "\n"
      ],
      "metadata": {
        "id": "CKYoHwejWqPP"
      }
    },
    {
      "cell_type": "code",
      "execution_count": 43,
      "metadata": {
        "id": "gv6yOPShnlPD"
      },
      "outputs": [],
      "source": [
        "# ----- Machine Learning Models -----\n",
        "# include additional ensemble and tuned models\n",
        "from sklearn.ensemble import BaggingClassifier, VotingClassifier, StackingClassifier\n",
        "\n",
        "# define base estimators\n",
        "base_knn = KNeighborsClassifier()\n",
        "base_svc = SVC(probability=True)\n"
      ]
    },
    {
      "cell_type": "markdown",
      "source": [
        "Define model"
      ],
      "metadata": {
        "id": "Z7k4PSJKXnue"
      }
    },
    {
      "cell_type": "code",
      "execution_count": 44,
      "metadata": {
        "id": "ZqG2SkOznolf"
      },
      "outputs": [],
      "source": [
        "ml_models = {\n",
        "    \"Naive Bayes\": GaussianNB(),\n",
        "    \"KNN\": KNeighborsClassifier(n_neighbors=7, weights='distance'),\n",
        "    \"SVM\": SVC(kernel='rbf', C=10, gamma=0.1, probability=True),\n",
        "    \"Logistic Regression\": LogisticRegression(solver='liblinear', C=1.0),\n",
        "    \"Ensemble - Bagging\": BaggingClassifier(random_state=42),\n",
        "    # \"Ensemble - AdaBoost\": AdaBoostClassifier(random_state=42),\n",
        "\n",
        "}\n"
      ]
    },
    {
      "cell_type": "markdown",
      "source": [
        "Train, predict and evaluate Accuracy"
      ],
      "metadata": {
        "id": "qmfN4KK0Xr8l"
      }
    },
    {
      "cell_type": "code",
      "execution_count": 45,
      "metadata": {
        "colab": {
          "base_uri": "https://localhost:8080/"
        },
        "id": "JpmFy77Ln0Jf",
        "outputId": "ef2f6f3e-494f-4d46-c0f6-3fd8b8b06a54"
      },
      "outputs": [
        {
          "output_type": "stream",
          "name": "stdout",
          "text": [
            "Training ML: Naive Bayes...\n",
            "Naive Bayes Accuracy: 0.6647\n",
            "\n",
            "Training ML: KNN...\n",
            "KNN Accuracy: 0.7246\n",
            "\n",
            "Training ML: SVM...\n",
            "SVM Accuracy: 0.7545\n",
            "\n",
            "Training ML: Logistic Regression...\n",
            "Logistic Regression Accuracy: 0.7665\n",
            "\n",
            "Training ML: Ensemble - Bagging...\n",
            "Ensemble - Bagging Accuracy: 0.8204\n",
            "\n"
          ]
        }
      ],
      "source": [
        "# --- Train ML models (re‑define or assume ml_models exists) ---\n",
        "ml_results = {}\n",
        "for name, model in ml_models.items():\n",
        "    print(f\"Training ML: {name}...\")\n",
        "    model.fit(X_train, y_train)\n",
        "    y_pred = model.predict(X_test)\n",
        "    ml_results[name] = accuracy_score(y_test, y_pred)\n",
        "    print(f\"{name} Accuracy: {ml_results[name]:.4f}\\n\")\n",
        "\n"
      ]
    },
    {
      "cell_type": "code",
      "source": [
        "# Find the model with the highest accuracy\n",
        "best_model_name = max(ml_results, key=ml_results.get)\n",
        "best_accuracy = ml_results[best_model_name]\n",
        "\n",
        "print(f\"Best Model: {best_model_name}\")\n",
        "print(f\"Highest Accuracy: {best_accuracy:.4f}\")"
      ],
      "metadata": {
        "colab": {
          "base_uri": "https://localhost:8080/"
        },
        "id": "1ixLuJxnYsXV",
        "outputId": "8cb135df-c3d0-4bf1-c4f7-29da3dc54580"
      },
      "execution_count": 46,
      "outputs": [
        {
          "output_type": "stream",
          "name": "stdout",
          "text": [
            "Best Model: Ensemble - Bagging\n",
            "Highest Accuracy: 0.8204\n"
          ]
        }
      ]
    },
    {
      "cell_type": "markdown",
      "source": [
        "Plot the result"
      ],
      "metadata": {
        "id": "LDTgHrbaX0TN"
      }
    },
    {
      "cell_type": "code",
      "source": [
        "\n",
        "import matplotlib.pyplot as plt\n",
        "import seaborn as sns\n",
        "\n",
        "plt.figure(figsize=(12, 6))\n",
        "all_results = {**ml_results }       # now both dicts exist\n",
        "sns.barplot(x=list(all_results.keys()), y=list(all_results.values()))\n",
        "plt.xticks(rotation=45)\n",
        "plt.xlabel(\"Model\")\n",
        "plt.ylabel(\"Accuracy\")\n",
        "plt.title(\"Comparison of ML  Models for Liver Disease Prediction\")\n",
        "plt.tight_layout()\n",
        "plt.show()"
      ],
      "metadata": {
        "colab": {
          "base_uri": "https://localhost:8080/",
          "height": 607
        },
        "id": "K20pcCGkXysW",
        "outputId": "487f3b7c-03d5-4f86-d7c6-b2bb0dca2934"
      },
      "execution_count": 47,
      "outputs": [
        {
          "output_type": "display_data",
          "data": {
            "text/plain": [
              "<Figure size 1200x600 with 1 Axes>"
            ],
            "image/png": "[encoded data removed]"
          },
          "metadata": {}
        }
      ]
    },
    {
      "cell_type": "code",
      "source": [
        "X.columns"
      ],
      "metadata": {
        "colab": {
          "base_uri": "https://localhost:8080/"
        },
        "id": "LKVfOwtAddIN",
        "outputId": "8a797932-c9e5-48aa-8c3d-a74d09231ecf"
      },
      "execution_count": 48,
      "outputs": [
        {
          "output_type": "execute_result",
          "data": {
            "text/plain": [
              "Index(['Age', 'Gender', 'TB', 'DB', 'Alkphos', 'Sgpt', 'Sgot', 'ALB',\n",
              "       'A/G Ratio'],\n",
              "      dtype='object')"
            ]
          },
          "metadata": {},
          "execution_count": 48
        }
      ]
    },
    {
      "cell_type": "code",
      "source": [
        "# ---- Prediction Function ----\n",
        "def predict_liver_disease(model, scaler, input_data, feature_names):\n",
        "    \"\"\"\n",
        "    Predict liver disease from input features.\n",
        "\n",
        "    Parameters:\n",
        "        model : trained ML model\n",
        "        scaler : fitted StandardScaler\n",
        "        input_data : list or array of features [Age, Gender, TB, DB, Alkphos, Sgpt, Sgot, ALB, A/G Ratio]\n",
        "        feature_names : list of feature names (used for consistency)\n",
        "\n",
        "    Returns:\n",
        "        str : prediction result (\"Liver Disease\" or \"No Liver Disease\")\n",
        "    \"\"\"\n",
        "\n",
        "    # Convert input into DataFrame for consistency\n",
        "    input_df = pd.DataFrame([input_data], columns=feature_names)\n",
        "\n",
        "    # Scale the input\n",
        "    input_scaled = scaler.transform(input_df)\n",
        "\n",
        "    # Prediction\n",
        "    pred = model.predict(input_scaled)[0]\n",
        "\n",
        "    # Convert to label\n",
        "    if pred == 1:\n",
        "        return \"Liver Disease\"\n",
        "    else:\n",
        "        return \"No Liver Disease\"\n"
      ],
      "metadata": {
        "id": "LLppzAFDdhvH"
      },
      "execution_count": 49,
      "outputs": []
    },
    {
      "cell_type": "code",
      "source": [
        "# Suppose best_model_name holds your best model key\n",
        "best_model = ml_models[best_model_name]\n",
        "\n",
        "# Example patient data (must match X_train columns order):\n",
        "# Age, Gender, TB, DB, Alkphos, Sgpt, Sgot, ALB, A/G Ratio\n",
        "sample_patient = [45, 1, 1.2, 0.5, 200, 30, 40, 4.5, 1.2]\n",
        "\n",
        "result = predict_liver_disease(best_model, scaler, sample_patient, feature_names)\n",
        "print(\"Prediction:\", result)\n"
      ],
      "metadata": {
        "colab": {
          "base_uri": "https://localhost:8080/"
        },
        "id": "3gST-KHZeQTq",
        "outputId": "27ccdce1-c075-4367-cd03-4d4ae3378e56"
      },
      "execution_count": 50,
      "outputs": [
        {
          "output_type": "stream",
          "name": "stdout",
          "text": [
            "Prediction: Liver Disease\n"
          ]
        }
      ]
    },
    {
      "cell_type": "code",
      "source": [
        "sample_patient = [21, 1, 18.5, 9.5, 380, 390, 500, 4.1, 1]\n",
        "result = predict_liver_disease(best_model, scaler, sample_patient, feature_names)\n",
        "print(\"Prediction:\", result)"
      ],
      "metadata": {
        "colab": {
          "base_uri": "https://localhost:8080/"
        },
        "id": "35_9Uzfs0C7n",
        "outputId": "dcc918d2-a434-47fc-b4d1-3002b61a9a17"
      },
      "execution_count": 53,
      "outputs": [
        {
          "output_type": "stream",
          "name": "stdout",
          "text": [
            "Prediction: No Liver Disease\n"
          ]
        }
      ]
    },
    {
      "cell_type": "code",
      "source": [
        "sample_data = [4, 1, 0.9, 0.2, 348, 30, 34, 4, 1]\n",
        "result = predict_liver_disease(best_model, scaler, sample_data, feature_names)\n",
        "print(\"Prediction:\", result)"
      ],
      "metadata": {
        "colab": {
          "base_uri": "https://localhost:8080/"
        },
        "id": "ja1hVyEJ0KRA",
        "outputId": "c2acc360-b4fa-4207-b9e1-f3a754e9263a"
      },
      "execution_count": 54,
      "outputs": [
        {
          "output_type": "stream",
          "name": "stdout",
          "text": [
            "Prediction: Liver Disease\n"
          ]
        }
      ]
    },
    {
      "cell_type": "markdown",
      "source": [
        "Save model & scaler as .pkl (or .joblib)"
      ],
      "metadata": {
        "id": "jGzho7ifAd7u"
      }
    },
    {
      "cell_type": "code",
      "source": [
        "import joblib\n",
        "import json\n",
        "\n",
        "# Save best model and scaler\n",
        "joblib.dump(best_model, \"best_model.pkl\")\n",
        "joblib.dump(scaler, \"scaler.pkl\")\n",
        "\n",
        "# Save feature names (very important for prediction order)\n",
        "with open(\"feature_names.json\", \"w\") as f:\n",
        "    json.dump(feature_names, f)\n",
        "\n",
        "print(\"Files saved: best_model.pkl, scaler.pkl, feature_names.json\")\n"
      ],
      "metadata": {
        "colab": {
          "base_uri": "https://localhost:8080/"
        },
        "id": "N3vYZu3XfDeg",
        "outputId": "1b497634-688a-48d7-8a10-b5779c92ec0e"
      },
      "execution_count": 51,
      "outputs": [
        {
          "output_type": "stream",
          "name": "stdout",
          "text": [
            "Files saved: best_model.pkl, scaler.pkl, feature_names.json\n"
          ]
        }
      ]
    },
    {
      "cell_type": "code",
      "source": [
        "# !pip freeze > requirements.txt\n",
        "# from google.colab import files\n",
        "# files.download(\"requirements.txt\")\n"
      ],
      "metadata": {
        "colab": {
          "base_uri": "https://localhost:8080/",
          "height": 17
        },
        "id": "_J17X3nZfeZY",
        "outputId": "2b9d2279-ae68-41c4-ce52-ebfc46498ea3"
      },
      "execution_count": 52,
      "outputs": [
        {
          "output_type": "display_data",
          "data": {
            "text/plain": [
              "<IPython.core.display.Javascript object>"
            ],
            "application/javascript": [
              "\n",
              "    async function download(id, filename, size) {\n",
              "      if (!google.colab.kernel.accessAllowed) {\n",
              "        return;\n",
              "      }\n",
              "      const div = document.createElement('div');\n",
              "      const label = document.createElement('label');\n",
              "      label.textContent = `Downloading \"${filename}\": `;\n",
              "      div.appendChild(label);\n",
              "      const progress = document.createElement('progress');\n",
              "      progress.max = size;\n",
              "      div.appendChild(progress);\n",
              "      document.body.appendChild(div);\n",
              "\n",
              "      const buffers = [];\n",
              "      let downloaded = 0;\n",
              "\n",
              "      const channel = await google.colab.kernel.comms.open(id);\n",
              "      // Send a message to notify the kernel that we're ready.\n",
              "      channel.send({})\n",
              "\n",
              "      for await (const message of channel.messages) {\n",
              "        // Send a message to notify the kernel that we're ready.\n",
              "        channel.send({})\n",
              "        if (message.buffers) {\n",
              "          for (const buffer of message.buffers) {\n",
              "            buffers.push(buffer);\n",
              "            downloaded += buffer.byteLength;\n",
              "            progress.value = downloaded;\n",
              "          }\n",
              "        }\n",
              "      }\n",
              "      const blob = new Blob(buffers, {type: 'application/binary'});\n",
              "      const a = document.createElement('a');\n",
              "      a.href = window.URL.createObjectURL(blob);\n",
              "      a.download = filename;\n",
              "      div.appendChild(a);\n",
              "      a.click();\n",
              "      div.remove();\n",
              "    }\n",
              "  "
            ]
          },
          "metadata": {}
        },
        {
          "output_type": "display_data",
          "data": {
            "text/plain": [
              "<IPython.core.display.Javascript object>"
            ],
            "application/javascript": [
              "download(\"download_61cbc43e-d1fc-49d0-8fa8-6ab8b38a037d\", \"requirements.txt\", 13388)"
            ]
          },
          "metadata": {}
        }
      ]
    }
  ],
  "metadata": {
    "colab": {
      "provenance": []
    },
    "kernelspec": {
      "display_name": "Python 3",
      "name": "python3"
    },
    "language_info": {
      "name": "python"
    }
  },
  "nbformat": 4,
  "nbformat_minor": 0
}